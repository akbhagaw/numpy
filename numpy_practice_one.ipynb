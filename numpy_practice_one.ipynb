{
  "nbformat": 4,
  "nbformat_minor": 0,
  "metadata": {
    "colab": {
      "provenance": [],
      "authorship_tag": "ABX9TyNWy+nRRYiRatdMyO5yrkhN",
      "include_colab_link": true
    },
    "kernelspec": {
      "name": "python3",
      "display_name": "Python 3"
    },
    "language_info": {
      "name": "python"
    }
  },
  "cells": [
    {
      "cell_type": "markdown",
      "metadata": {
        "id": "view-in-github",
        "colab_type": "text"
      },
      "source": [
        "<a href=\"https://colab.research.google.com/github/akbhagaw/numpy/blob/main/numpy_practice_one.ipynb\" target=\"_parent\"><img src=\"https://colab.research.google.com/assets/colab-badge.svg\" alt=\"Open In Colab\"/></a>"
      ]
    },
    {
      "cell_type": "code",
      "execution_count": 65,
      "metadata": {
        "id": "jIPKGCEi3mkt"
      },
      "outputs": [],
      "source": [
        "# Numapy Practice"
      ]
    },
    {
      "cell_type": "code",
      "source": [
        "import numpy as np\n",
        "import pandas as pd\n",
        "\n",
        "######## Create one D array\n",
        "one_d = np.array([1,2,3,4,5])\n",
        "print(one_d)\n"
      ],
      "metadata": {
        "colab": {
          "base_uri": "https://localhost:8080/"
        },
        "id": "MVeIOL-JRLy1",
        "outputId": "a25f0b41-f8a0-4c7d-f7f8-907646efb801"
      },
      "execution_count": 66,
      "outputs": [
        {
          "output_type": "stream",
          "name": "stdout",
          "text": [
            "[1 2 3 4 5]\n"
          ]
        }
      ]
    },
    {
      "cell_type": "code",
      "source": [
        "####### Create two D array\n",
        "two_d = np.array([[2,3,4,5],[3,5,6,4]])\n",
        "print(two_d)"
      ],
      "metadata": {
        "colab": {
          "base_uri": "https://localhost:8080/"
        },
        "id": "Btz6YamzSiY_",
        "outputId": "ff6c02bd-0d43-4afc-c63c-2ee757266209"
      },
      "execution_count": 67,
      "outputs": [
        {
          "output_type": "stream",
          "name": "stdout",
          "text": [
            "[[2 3 4 5]\n",
            " [3 5 6 4]]\n"
          ]
        }
      ]
    },
    {
      "cell_type": "code",
      "source": [
        "###### Create three D array\n",
        "three_d = np.array([[[2,4,6,8],[5,6,7,9]],[[5,6,8,4],[4,5,6,8]]])\n",
        "print(three_d)\n",
        "np.ndim(three_d)"
      ],
      "metadata": {
        "colab": {
          "base_uri": "https://localhost:8080/"
        },
        "id": "YLG9oqUPTQ8E",
        "outputId": "137b62c9-214b-4ef5-8edb-b079c550ae63"
      },
      "execution_count": 68,
      "outputs": [
        {
          "output_type": "stream",
          "name": "stdout",
          "text": [
            "[[[2 4 6 8]\n",
            "  [5 6 7 9]]\n",
            "\n",
            " [[5 6 8 4]\n",
            "  [4 5 6 8]]]\n"
          ]
        },
        {
          "output_type": "execute_result",
          "data": {
            "text/plain": [
              "3"
            ]
          },
          "metadata": {},
          "execution_count": 68
        }
      ]
    },
    {
      "cell_type": "code",
      "source": [
        "np.shape(three_d)\n",
        "three_d.shape"
      ],
      "metadata": {
        "colab": {
          "base_uri": "https://localhost:8080/"
        },
        "id": "cFzUrFcyUbe8",
        "outputId": "444c62df-ad89-46cb-e458-2af7831ec0b5"
      },
      "execution_count": 69,
      "outputs": [
        {
          "output_type": "execute_result",
          "data": {
            "text/plain": [
              "(2, 2, 4)"
            ]
          },
          "metadata": {},
          "execution_count": 69
        }
      ]
    },
    {
      "cell_type": "code",
      "source": [
        "np.size(three_d)"
      ],
      "metadata": {
        "colab": {
          "base_uri": "https://localhost:8080/"
        },
        "id": "TlFPqUsPVR_U",
        "outputId": "797f041c-a876-4f99-d93c-d489c0fdeef4"
      },
      "execution_count": 70,
      "outputs": [
        {
          "output_type": "execute_result",
          "data": {
            "text/plain": [
              "16"
            ]
          },
          "metadata": {},
          "execution_count": 70
        }
      ]
    },
    {
      "cell_type": "code",
      "source": [
        "np.all(three_d)"
      ],
      "metadata": {
        "colab": {
          "base_uri": "https://localhost:8080/"
        },
        "id": "Yt9G1xsCXXaa",
        "outputId": "84b5d705-73f6-4ec3-be74-66f12cf74ba0"
      },
      "execution_count": 71,
      "outputs": [
        {
          "output_type": "execute_result",
          "data": {
            "text/plain": [
              "np.True_"
            ]
          },
          "metadata": {},
          "execution_count": 71
        }
      ]
    },
    {
      "cell_type": "code",
      "source": [
        "np.amax(three_d, axis=0) # Returned a Max value of an array"
      ],
      "metadata": {
        "colab": {
          "base_uri": "https://localhost:8080/"
        },
        "id": "jQDSTHNWYDa8",
        "outputId": "738ec3c3-8723-4860-9992-3785a3b52296"
      },
      "execution_count": 72,
      "outputs": [
        {
          "output_type": "execute_result",
          "data": {
            "text/plain": [
              "array([[5, 6, 8, 8],\n",
              "       [5, 6, 7, 9]])"
            ]
          },
          "metadata": {},
          "execution_count": 72
        }
      ]
    },
    {
      "cell_type": "code",
      "source": [
        "np.amax(three_d, axis=1 ) # Returned a Max value of an array"
      ],
      "metadata": {
        "colab": {
          "base_uri": "https://localhost:8080/"
        },
        "id": "aU07st3rbaPS",
        "outputId": "b4a90d00-74e4-4760-a41a-4f4694aba7f9"
      },
      "execution_count": 73,
      "outputs": [
        {
          "output_type": "execute_result",
          "data": {
            "text/plain": [
              "array([[5, 6, 7, 9],\n",
              "       [5, 6, 8, 8]])"
            ]
          },
          "metadata": {},
          "execution_count": 73
        }
      ]
    },
    {
      "cell_type": "code",
      "source": [
        "three_d = np.array([[[9,4,6,8],[5,6,7,9]],[[5,6,8,10],[4,5,6,8]]])\n",
        "print(three_d)"
      ],
      "metadata": {
        "colab": {
          "base_uri": "https://localhost:8080/"
        },
        "id": "UUwYWuCkbn2J",
        "outputId": "6e71a994-9952-41bf-a117-dc0c942c7802"
      },
      "execution_count": 74,
      "outputs": [
        {
          "output_type": "stream",
          "name": "stdout",
          "text": [
            "[[[ 9  4  6  8]\n",
            "  [ 5  6  7  9]]\n",
            "\n",
            " [[ 5  6  8 10]\n",
            "  [ 4  5  6  8]]]\n"
          ]
        }
      ]
    },
    {
      "cell_type": "code",
      "source": [
        "max_column= np.amax(three_d, axis=1 )\n",
        "print(max_column)"
      ],
      "metadata": {
        "colab": {
          "base_uri": "https://localhost:8080/"
        },
        "id": "xUQNhMw0ddf0",
        "outputId": "d591741f-d1e2-40be-f487-a223f0c0fc61"
      },
      "execution_count": 75,
      "outputs": [
        {
          "output_type": "stream",
          "name": "stdout",
          "text": [
            "[[ 9  6  7  9]\n",
            " [ 5  6  8 10]]\n"
          ]
        }
      ]
    },
    {
      "cell_type": "code",
      "source": [
        "max_row= np.amax(two_d, axis=1 ) # its provided Max value of array axis=1 (Rows)\n",
        "print(max_row)"
      ],
      "metadata": {
        "colab": {
          "base_uri": "https://localhost:8080/"
        },
        "id": "6m_tMSkefKvb",
        "outputId": "4b1cbdc3-a8a9-406a-ad15-772dcee78b88"
      },
      "execution_count": 76,
      "outputs": [
        {
          "output_type": "stream",
          "name": "stdout",
          "text": [
            "[5 6]\n"
          ]
        }
      ]
    },
    {
      "cell_type": "code",
      "source": [
        "two_d = np.array([[2,3,4,5],[3,5,6,4]])\n",
        "print(two_d)"
      ],
      "metadata": {
        "colab": {
          "base_uri": "https://localhost:8080/"
        },
        "id": "b0If0ub_fW7y",
        "outputId": "7a171f47-c795-4785-96cd-52c03ea4bbd3"
      },
      "execution_count": 77,
      "outputs": [
        {
          "output_type": "stream",
          "name": "stdout",
          "text": [
            "[[2 3 4 5]\n",
            " [3 5 6 4]]\n"
          ]
        }
      ]
    },
    {
      "cell_type": "code",
      "source": [
        "max_column= np.amax(two_d, axis=0 ) # its provided Max value of array axis=0 (Columns)\n",
        "print(max_column)"
      ],
      "metadata": {
        "colab": {
          "base_uri": "https://localhost:8080/"
        },
        "id": "PX9gcwR1fkFy",
        "outputId": "43533482-1e59-4a92-f95d-e4f31e33581f"
      },
      "execution_count": 78,
      "outputs": [
        {
          "output_type": "stream",
          "name": "stdout",
          "text": [
            "[3 5 6 5]\n"
          ]
        }
      ]
    },
    {
      "cell_type": "code",
      "source": [
        "np.amin(two_d, axis=0) # its provided Min value of array axis=0 (Columns)"
      ],
      "metadata": {
        "colab": {
          "base_uri": "https://localhost:8080/"
        },
        "id": "b2_WU_M3vGPR",
        "outputId": "9bdf96e5-9414-4d4c-b62e-ccde7453f345"
      },
      "execution_count": 79,
      "outputs": [
        {
          "output_type": "execute_result",
          "data": {
            "text/plain": [
              "array([2, 3, 4, 4])"
            ]
          },
          "metadata": {},
          "execution_count": 79
        }
      ]
    },
    {
      "cell_type": "code",
      "source": [
        "np.amin(two_d, axis=1) # its provided Max value of array axis=1 (Rows)"
      ],
      "metadata": {
        "colab": {
          "base_uri": "https://localhost:8080/"
        },
        "id": "YAuCLsGUvlbP",
        "outputId": "05b4aeda-2a47-4b55-939a-7592cd366157"
      },
      "execution_count": 80,
      "outputs": [
        {
          "output_type": "execute_result",
          "data": {
            "text/plain": [
              "array([2, 3])"
            ]
          },
          "metadata": {},
          "execution_count": 80
        }
      ]
    },
    {
      "cell_type": "code",
      "source": [
        "np.shape(two_d) # its provide shape (number_row, number_column)"
      ],
      "metadata": {
        "colab": {
          "base_uri": "https://localhost:8080/"
        },
        "id": "d4gTYALG89Od",
        "outputId": "75045a97-4e35-400d-93ff-3ee1016ac0ae"
      },
      "execution_count": 81,
      "outputs": [
        {
          "output_type": "execute_result",
          "data": {
            "text/plain": [
              "(2, 4)"
            ]
          },
          "metadata": {},
          "execution_count": 81
        }
      ]
    },
    {
      "cell_type": "code",
      "source": [
        "# another way to check it\n",
        "two_d.shape # provide the same resulte (number_row, number_column)"
      ],
      "metadata": {
        "colab": {
          "base_uri": "https://localhost:8080/"
        },
        "id": "2aiQuCfp9YSr",
        "outputId": "52f8e8a5-5e59-4b64-aea2-a3d158aa34ed"
      },
      "execution_count": 82,
      "outputs": [
        {
          "output_type": "execute_result",
          "data": {
            "text/plain": [
              "(2, 4)"
            ]
          },
          "metadata": {},
          "execution_count": 82
        }
      ]
    },
    {
      "cell_type": "code",
      "source": [
        "# use arange to create one D, Two D and three D array\n",
        "np.arange((5)) # One_D array\n"
      ],
      "metadata": {
        "colab": {
          "base_uri": "https://localhost:8080/"
        },
        "id": "AIxV9mMT96G0",
        "outputId": "fc61b31f-6ea5-4839-9141-dfbbe73c23d6"
      },
      "execution_count": 84,
      "outputs": [
        {
          "output_type": "execute_result",
          "data": {
            "text/plain": [
              "array([0, 1, 2, 3, 4])"
            ]
          },
          "metadata": {},
          "execution_count": 84
        }
      ]
    },
    {
      "cell_type": "code",
      "source": [
        "np.arange(5) # One_D array"
      ],
      "metadata": {
        "colab": {
          "base_uri": "https://localhost:8080/"
        },
        "id": "Wvql1dVQ-o5b",
        "outputId": "17f6a12b-361d-4687-dc0f-e625cfb59af6"
      },
      "execution_count": 85,
      "outputs": [
        {
          "output_type": "execute_result",
          "data": {
            "text/plain": [
              "array([0, 1, 2, 3, 4])"
            ]
          },
          "metadata": {},
          "execution_count": 85
        }
      ]
    },
    {
      "cell_type": "code",
      "source": [
        "arr_1= np.arange(10,50,5)\n",
        "two_d_arr = np.array(arr_1)\n",
        "two_d_arr.reshape(2,4)"
      ],
      "metadata": {
        "colab": {
          "base_uri": "https://localhost:8080/"
        },
        "id": "tRNdNk1b_NJz",
        "outputId": "881dc2b5-7f26-452d-a92e-3ebfa62cb8af"
      },
      "execution_count": 107,
      "outputs": [
        {
          "output_type": "execute_result",
          "data": {
            "text/plain": [
              "array([[10, 15, 20, 25],\n",
              "       [30, 35, 40, 45]])"
            ]
          },
          "metadata": {},
          "execution_count": 107
        }
      ]
    }
  ]
}